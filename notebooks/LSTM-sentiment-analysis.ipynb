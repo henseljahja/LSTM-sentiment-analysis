{
  "nbformat": 4,
  "nbformat_minor": 0,
  "metadata": {
    "accelerator": "GPU",
    "colab": {
      "name": "finalProject.ipynb",
      "provenance": []
    },
    "kernelspec": {
      "display_name": "Python 3",
      "language": "python",
      "name": "python3"
    },
    "language_info": {
      "codemirror_mode": {
        "name": "ipython",
        "version": 3
      },
      "file_extension": ".py",
      "mimetype": "text/x-python",
      "name": "python",
      "nbconvert_exporter": "python",
      "pygments_lexer": "ipython3",
      "version": "3.6.4"
    }
  },
  "cells": [
    {
      "cell_type": "code",
      "metadata": {
        "colab": {
          "base_uri": "https://localhost:8080/"
        },
        "id": "gRLmIc_nXpFl",
        "outputId": "52408c35-08d8-4ea7-fc93-cdffdc0c77be"
      },
      "source": [
        "from google.colab import drive\n",
        "drive.mount('/content/drive')"
      ],
      "execution_count": null,
      "outputs": [
        {
          "output_type": "stream",
          "text": [
            "Mounted at /content/drive\n"
          ],
          "name": "stdout"
        }
      ]
    },
    {
      "cell_type": "code",
      "metadata": {
        "id": "IG-soqPnkVFW"
      },
      "source": [
        "! apt-get install openjdk-8-jdk-headless -qq > /dev/null"
      ],
      "execution_count": null,
      "outputs": []
    },
    {
      "cell_type": "code",
      "metadata": {
        "colab": {
          "base_uri": "https://localhost:8080/"
        },
        "id": "to1mlGcBkWJP",
        "outputId": "916da82c-8db2-4e87-9dd6-7d5342e31b6e"
      },
      "source": [
        "! wget https://downloads.apache.org/spark/spark-3.1.1/spark-3.1.1-bin-hadoop2.7.tgz"
      ],
      "execution_count": null,
      "outputs": [
        {
          "output_type": "stream",
          "text": [
            "--2021-05-25 17:02:46--  https://downloads.apache.org/spark/spark-3.1.1/spark-3.1.1-bin-hadoop2.7.tgz\n",
            "Resolving downloads.apache.org (downloads.apache.org)... 88.99.95.219, 135.181.209.10, 135.181.214.104, ...\n",
            "Connecting to downloads.apache.org (downloads.apache.org)|88.99.95.219|:443... connected.\n",
            "HTTP request sent, awaiting response... 200 OK\n",
            "Length: 224374704 (214M) [application/x-gzip]\n",
            "Saving to: ‘spark-3.1.1-bin-hadoop2.7.tgz’\n",
            "\n",
            "spark-3.1.1-bin-had 100%[===================>] 213.98M  29.7MB/s    in 7.9s    \n",
            "\n",
            "2021-05-25 17:02:54 (27.1 MB/s) - ‘spark-3.1.1-bin-hadoop2.7.tgz’ saved [224374704/224374704]\n",
            "\n"
          ],
          "name": "stdout"
        }
      ]
    },
    {
      "cell_type": "code",
      "metadata": {
        "id": "mGcYDiL_kXom"
      },
      "source": [
        "! tar xf /content/spark-3.1.1-bin-hadoop2.7.tgz"
      ],
      "execution_count": null,
      "outputs": []
    },
    {
      "cell_type": "code",
      "metadata": {
        "colab": {
          "base_uri": "https://localhost:8080/"
        },
        "id": "mdi3Ch9nkY3K",
        "outputId": "10d3f37b-bdd3-4c37-b49b-12e9070526f3"
      },
      "source": [
        "! pip install  findspark"
      ],
      "execution_count": null,
      "outputs": [
        {
          "output_type": "stream",
          "text": [
            "Collecting findspark\n",
            "  Downloading https://files.pythonhosted.org/packages/fc/2d/2e39f9a023479ea798eed4351cd66f163ce61e00c717e03c37109f00c0f2/findspark-1.4.2-py2.py3-none-any.whl\n",
            "Installing collected packages: findspark\n",
            "Successfully installed findspark-1.4.2\n"
          ],
          "name": "stdout"
        }
      ]
    },
    {
      "cell_type": "code",
      "metadata": {
        "colab": {
          "base_uri": "https://localhost:8080/"
        },
        "id": "YAPgUGzep-oe",
        "outputId": "80bbcfcb-cab6-4bfb-a188-d95535fc65f5"
      },
      "source": [
        "! pip install pyspark==2.3.0"
      ],
      "execution_count": null,
      "outputs": [
        {
          "output_type": "stream",
          "text": [
            "Collecting pyspark==2.3.0\n",
            "\u001b[?25l  Downloading https://files.pythonhosted.org/packages/58/49/45370cc153a6adcf2c304a3c06e801ed3c9650d0f852e7fde04bd8ffb534/pyspark-2.3.0.tar.gz (211.9MB)\n",
            "\u001b[K     |████████████████████████████████| 211.9MB 65kB/s \n",
            "\u001b[?25hCollecting py4j==0.10.6\n",
            "\u001b[?25l  Downloading https://files.pythonhosted.org/packages/4a/08/162710786239aa72bd72bb46c64f2b02f54250412ba928cb373b30699139/py4j-0.10.6-py2.py3-none-any.whl (189kB)\n",
            "\u001b[K     |████████████████████████████████| 194kB 23.6MB/s \n",
            "\u001b[?25hBuilding wheels for collected packages: pyspark\n",
            "  Building wheel for pyspark (setup.py) ... \u001b[?25l\u001b[?25hdone\n",
            "  Created wheel for pyspark: filename=pyspark-2.3.0-py2.py3-none-any.whl size=212271916 sha256=d4619f84fdb3be07e76ce4648a0c2f068dc138e153dd515725dc8bc25ba4faef\n",
            "  Stored in directory: /root/.cache/pip/wheels/d9/db/ff/e6f3a8a564163ea64bc2072357e77b3404d10f91be48352796\n",
            "Successfully built pyspark\n",
            "Installing collected packages: py4j, pyspark\n",
            "Successfully installed py4j-0.10.6 pyspark-2.3.0\n"
          ],
          "name": "stdout"
        }
      ]
    },
    {
      "cell_type": "code",
      "metadata": {
        "id": "DuvsZ1nOkgcd"
      },
      "source": [
        "import os\n",
        "os.environ[\"JAVA_HOME\"] = \"/usr/lib/jvm/java-8-openjdk-amd64\"\n",
        "os.environ[\"SPARK_HOME\"] = \"/content/spark-3.1.1-bin-hadoop2.7\""
      ],
      "execution_count": null,
      "outputs": []
    },
    {
      "cell_type": "code",
      "metadata": {
        "id": "Tjj3hl8tkkPz"
      },
      "source": [
        "import findspark\n",
        "findspark.init()"
      ],
      "execution_count": null,
      "outputs": []
    },
    {
      "cell_type": "code",
      "metadata": {
        "colab": {
          "base_uri": "https://localhost:8080/",
          "height": 35
        },
        "id": "dqiBjQCbkkr9",
        "outputId": "1e519e2e-25c6-4892-8e51-41ec83691f44"
      },
      "source": [
        "findspark.find()"
      ],
      "execution_count": null,
      "outputs": [
        {
          "output_type": "execute_result",
          "data": {
            "application/vnd.google.colaboratory.intrinsic+json": {
              "type": "string"
            },
            "text/plain": [
              "'/content/spark-3.1.1-bin-hadoop2.7'"
            ]
          },
          "metadata": {
            "tags": []
          },
          "execution_count": 9
        }
      ]
    },
    {
      "cell_type": "code",
      "metadata": {
        "id": "y_HCOg40kqHD"
      },
      "source": [
        "from pyspark.sql import SparkSession\n",
        "\n",
        "spark = SparkSession.builder\\\n",
        "        .master(\"local\")\\\n",
        "        .appName(\"Colab\")\\\n",
        "        .config('spark.ui.port', '4050')\\\n",
        "        .config('spark.driver.memory','45G')\\\n",
        "        .config('spark.driver.maxResultSize', '10G')\\\n",
        "        .getOrCreate()\n",
        "\n",
        "# from pyspark.sql import SparkSession\n",
        "\n",
        "# spark = SparkSession.builder\\\n",
        "# .master(\"local\")\\\n",
        "# .appName(\"Colab\")\\\n",
        "# .config('spark.ui.port', '4050')\\\n",
        "# .config('spark.executor.memory', '4G')\\\n",
        "# .config('spark.driver.memory', '45G')\\\n",
        "# .config('spark.driver.maxResultSize', '10G')\\\n",
        "# .getOrCreate()\n",
        "#         # conf = (conf.setMaster('local[*]')\n",
        "#         # .set('spark.executor.memory', '4G')\n",
        "#         # .set('spark.driver.memory', '45G')\n",
        "#         # .set('spark.driver.maxResultSize', '10G'))"
      ],
      "execution_count": null,
      "outputs": []
    },
    {
      "cell_type": "code",
      "metadata": {
        "colab": {
          "base_uri": "https://localhost:8080/",
          "height": 219
        },
        "id": "Oki3CWLiy1Es",
        "outputId": "772d73ef-b0dc-4ad3-adb4-0bf1097012ea"
      },
      "source": [
        "spark\n",
        "#print partition"
      ],
      "execution_count": null,
      "outputs": [
        {
          "output_type": "execute_result",
          "data": {
            "text/html": [
              "\n",
              "            <div>\n",
              "                <p><b>SparkSession - in-memory</b></p>\n",
              "                \n",
              "        <div>\n",
              "            <p><b>SparkContext</b></p>\n",
              "\n",
              "            <p><a href=\"http://d0d0c409c184:4050\">Spark UI</a></p>\n",
              "\n",
              "            <dl>\n",
              "              <dt>Version</dt>\n",
              "                <dd><code>v3.1.1</code></dd>\n",
              "              <dt>Master</dt>\n",
              "                <dd><code>local</code></dd>\n",
              "              <dt>AppName</dt>\n",
              "                <dd><code>Colab</code></dd>\n",
              "            </dl>\n",
              "        </div>\n",
              "        \n",
              "            </div>\n",
              "        "
            ],
            "text/plain": [
              "<pyspark.sql.session.SparkSession at 0x7fa6fdb7c750>"
            ]
          },
          "metadata": {
            "tags": []
          },
          "execution_count": 11
        }
      ]
    },
    {
      "cell_type": "code",
      "metadata": {
        "id": "cDc-cN3-sAv2"
      },
      "source": [
        "\n",
        "\n",
        "# from pyspark.sql import SparkSession\n",
        "\n",
        "# spark = SparkSession.builder \\\n",
        "#   .master('local[*]') \\\n",
        "#   .config('spark.ui.port', '4050')\\\n",
        "#   .set('spark.executor.memory', '4G')\n",
        "#   .set('spark.driver.memory', '45G')\n",
        "#   .set('spark.driver.maxResultSize', '10G'))\n",
        "#   .appName('Colab') \\\n",
        "#   .getOrCreate()"
      ],
      "execution_count": null,
      "outputs": []
    },
    {
      "cell_type": "code",
      "metadata": {
        "colab": {
          "base_uri": "https://localhost:8080/"
        },
        "id": "ie9S1AWkk2D4",
        "outputId": "20e85d1b-c16e-4beb-827d-91c79e8e06a0"
      },
      "source": [
        "!wget https://bin.equinox.io/c/4VmDzA7iaHb/ngrok-stable-linux-amd64.zip\n",
        "!unzip ngrok-stable-linux-amd64.zip\n",
        "get_ipython().system_raw('./ngrok http 4050 &')\n",
        "!curl -s http://localhost:4040/api/tunnels"
      ],
      "execution_count": null,
      "outputs": [
        {
          "output_type": "stream",
          "text": [
            "--2021-05-25 17:03:40--  https://bin.equinox.io/c/4VmDzA7iaHb/ngrok-stable-linux-amd64.zip\n",
            "Resolving bin.equinox.io (bin.equinox.io)... 3.220.114.126, 34.226.165.133, 34.202.43.88, ...\n",
            "Connecting to bin.equinox.io (bin.equinox.io)|3.220.114.126|:443... connected.\n",
            "HTTP request sent, awaiting response... 200 OK\n",
            "Length: 13832437 (13M) [application/octet-stream]\n",
            "Saving to: ‘ngrok-stable-linux-amd64.zip’\n",
            "\n",
            "ngrok-stable-linux- 100%[===================>]  13.19M  65.5MB/s    in 0.2s    \n",
            "\n",
            "2021-05-25 17:03:40 (65.5 MB/s) - ‘ngrok-stable-linux-amd64.zip’ saved [13832437/13832437]\n",
            "\n",
            "Archive:  ngrok-stable-linux-amd64.zip\n",
            "  inflating: ngrok                   \n",
            "{\"tunnels\":[{\"name\":\"command_line\",\"uri\":\"/api/tunnels/command_line\",\"public_url\":\"https://3a4843684a09.ngrok.io\",\"proto\":\"https\",\"config\":{\"addr\":\"http://localhost:4050\",\"inspect\":true},\"metrics\":{\"conns\":{\"count\":0,\"gauge\":0,\"rate1\":0,\"rate5\":0,\"rate15\":0,\"p50\":0,\"p90\":0,\"p95\":0,\"p99\":0},\"http\":{\"count\":0,\"rate1\":0,\"rate5\":0,\"rate15\":0,\"p50\":0,\"p90\":0,\"p95\":0,\"p99\":0}}}],\"uri\":\"/api/tunnels\"}\n"
          ],
          "name": "stdout"
        }
      ]
    },
    {
      "cell_type": "code",
      "metadata": {
        "id": "OmG3CfT8lptJ"
      },
      "source": [
        "spark_df = spark.read.csv(\"/content/drive/MyDrive/abd/kindle_reviews.csv\", header=True, inferSchema=True)"
      ],
      "execution_count": null,
      "outputs": []
    },
    {
      "cell_type": "code",
      "metadata": {
        "colab": {
          "base_uri": "https://localhost:8080/"
        },
        "id": "hlCwH-zJnrUx",
        "outputId": "c8bb28d1-5c66-40ed-d4fb-997ed0ac7924"
      },
      "source": [
        "spark_df.describe().show()"
      ],
      "execution_count": null,
      "outputs": [
        {
          "output_type": "stream",
          "text": [
            "+-------+----------------+--------------------+--------------------+------------------+--------------------+--------------------+--------------------+------------+--------------------+--------------------+\n",
            "|summary|             _c0|                asin|             helpful|           overall|          reviewText|          reviewTime|          reviewerID|reviewerName|             summary|      unixReviewTime|\n",
            "+-------+----------------+--------------------+--------------------+------------------+--------------------+--------------------+--------------------+------------+--------------------+--------------------+\n",
            "|  count|          982820|              982815|              982815|            982619|              982597|              982605|              982598|      978957|              982385|              982397|\n",
            "|   mean|        491309.0|                null|1.3761077877551022E9| 4.347801131466011|                null|   270.1666666666667|   488.4230769230769|         NaN|            Infinity| 1.379464524287035E9|\n",
            "| stddev|283657.816417951|                null|1.6564734199762244E7|0.9550557821749482|                null|   635.0612059432679|   845.9822302189059|         NaN|                 NaN|2.2912235377160404E7|\n",
            "|    min|               0| 30 Prayers Of Peace|          1329523200|                 1| &#10032; Bianca ...|  \"\" I can tell y...|                    |   \u001a Nikki \u001a|                    |  \"\"But you have ...|\n",
            "|    max|             wn\"|looking forward t...|           [99, 108]|                 5|~~~~~~~~~~~~~Doub...|     ~Layla &#9829;\"|you're left takin...|  ~lil maso~|~~~~~~~His forbid...| ~~Best Made Plans~~|\n",
            "+-------+----------------+--------------------+--------------------+------------------+--------------------+--------------------+--------------------+------------+--------------------+--------------------+\n",
            "\n"
          ],
          "name": "stdout"
        }
      ]
    },
    {
      "cell_type": "code",
      "metadata": {
        "colab": {
          "base_uri": "https://localhost:8080/"
        },
        "id": "JTXme5ZwnuLt",
        "outputId": "52913b47-129a-442f-91c5-abb18f5dc884"
      },
      "source": [
        "spark_df.printSchema()"
      ],
      "execution_count": null,
      "outputs": [
        {
          "output_type": "stream",
          "text": [
            "root\n",
            " |-- _c0: string (nullable = true)\n",
            " |-- asin: string (nullable = true)\n",
            " |-- helpful: string (nullable = true)\n",
            " |-- overall: integer (nullable = true)\n",
            " |-- reviewText: string (nullable = true)\n",
            " |-- reviewTime: string (nullable = true)\n",
            " |-- reviewerID: string (nullable = true)\n",
            " |-- reviewerName: string (nullable = true)\n",
            " |-- summary: string (nullable = true)\n",
            " |-- unixReviewTime: string (nullable = true)\n",
            "\n"
          ],
          "name": "stdout"
        }
      ]
    },
    {
      "cell_type": "code",
      "metadata": {
        "colab": {
          "base_uri": "https://localhost:8080/"
        },
        "id": "c5WCtlkoppO4",
        "outputId": "fc22d61b-01e7-448a-bec8-ce80f8291c27"
      },
      "source": [
        "spark_df.rdd.getNumPartitions()"
      ],
      "execution_count": null,
      "outputs": [
        {
          "output_type": "execute_result",
          "data": {
            "text/plain": [
              "6"
            ]
          },
          "metadata": {
            "tags": []
          },
          "execution_count": 16
        }
      ]
    },
    {
      "cell_type": "code",
      "metadata": {
        "id": "Q756I0XcojVQ"
      },
      "source": [
        "spark_to_pandas = spark_df.select(\"*\").toPandas()"
      ],
      "execution_count": null,
      "outputs": []
    },
    {
      "cell_type": "markdown",
      "metadata": {
        "id": "exbdtkoAG1Tj"
      },
      "source": [
        "### Import Library"
      ]
    },
    {
      "cell_type": "code",
      "metadata": {
        "id": "NDcofjVaZBxe"
      },
      "source": [
        "df = spark_to_pandas.copy()"
      ],
      "execution_count": null,
      "outputs": []
    },
    {
      "cell_type": "code",
      "metadata": {
        "colab": {
          "base_uri": "https://localhost:8080/"
        },
        "id": "4YRkEsPAG1Tx",
        "outputId": "e97a197f-ac0d-43b7-bc29-91fdf2a1d9e6"
      },
      "source": [
        "import tensorflow as tf\n",
        "import matplotlib.pyplot as plt\n",
        "import pandas as pd\n",
        "import numpy as np\n",
        "\n",
        "\n",
        "import nltk \n",
        "nltk.download('stopwords')\n",
        "from nltk.corpus import stopwords\n",
        "from nltk.stem import SnowballStemmer\n",
        "\n",
        "\n",
        "from sklearn.model_selection import train_test_split\n",
        "from sklearn.preprocessing import LabelEncoder\n",
        "\n",
        "\n",
        "import re\n",
        "\n",
        "print(\"Tensorflow Version\",tf.__version__)"
      ],
      "execution_count": null,
      "outputs": [
        {
          "output_type": "stream",
          "text": [
            "[nltk_data] Downloading package stopwords to /root/nltk_data...\n",
            "[nltk_data]   Unzipping corpora/stopwords.zip.\n",
            "Tensorflow Version 2.5.0\n"
          ],
          "name": "stdout"
        }
      ]
    },
    {
      "cell_type": "markdown",
      "metadata": {
        "id": "yPrOyDDeG1T0"
      },
      "source": [
        "#  Dataset Preprocessing"
      ]
    },
    {
      "cell_type": "code",
      "metadata": {
        "colab": {
          "base_uri": "https://localhost:8080/",
          "height": 626
        },
        "id": "R6gBtrtsG1T3",
        "outputId": "c8bbadab-cf30-4f6b-bfba-e3046227090b"
      },
      "source": [
        "df['text'] = df['reviewText']\n",
        "df[\"sentiment\"] = df[\"overall\"]\n",
        "df.head()"
      ],
      "execution_count": null,
      "outputs": [
        {
          "output_type": "execute_result",
          "data": {
            "text/html": [
              "<div>\n",
              "<style scoped>\n",
              "    .dataframe tbody tr th:only-of-type {\n",
              "        vertical-align: middle;\n",
              "    }\n",
              "\n",
              "    .dataframe tbody tr th {\n",
              "        vertical-align: top;\n",
              "    }\n",
              "\n",
              "    .dataframe thead th {\n",
              "        text-align: right;\n",
              "    }\n",
              "</style>\n",
              "<table border=\"1\" class=\"dataframe\">\n",
              "  <thead>\n",
              "    <tr style=\"text-align: right;\">\n",
              "      <th></th>\n",
              "      <th>_c0</th>\n",
              "      <th>asin</th>\n",
              "      <th>helpful</th>\n",
              "      <th>overall</th>\n",
              "      <th>reviewText</th>\n",
              "      <th>reviewTime</th>\n",
              "      <th>reviewerID</th>\n",
              "      <th>reviewerName</th>\n",
              "      <th>summary</th>\n",
              "      <th>unixReviewTime</th>\n",
              "      <th>text</th>\n",
              "      <th>sentiment</th>\n",
              "    </tr>\n",
              "  </thead>\n",
              "  <tbody>\n",
              "    <tr>\n",
              "      <th>0</th>\n",
              "      <td>0</td>\n",
              "      <td>B000F83SZQ</td>\n",
              "      <td>[0, 0]</td>\n",
              "      <td>5.0</td>\n",
              "      <td>I enjoy vintage books and movies so I enjoyed ...</td>\n",
              "      <td>05 5, 2014</td>\n",
              "      <td>A1F6404F1VG29J</td>\n",
              "      <td>Avidreader</td>\n",
              "      <td>Nice vintage story</td>\n",
              "      <td>1399248000</td>\n",
              "      <td>I enjoy vintage books and movies so I enjoyed ...</td>\n",
              "      <td>5.0</td>\n",
              "    </tr>\n",
              "    <tr>\n",
              "      <th>1</th>\n",
              "      <td>1</td>\n",
              "      <td>B000F83SZQ</td>\n",
              "      <td>[2, 2]</td>\n",
              "      <td>4.0</td>\n",
              "      <td>This book is a reissue of an old one; the auth...</td>\n",
              "      <td>01 6, 2014</td>\n",
              "      <td>AN0N05A9LIJEQ</td>\n",
              "      <td>critters</td>\n",
              "      <td>Different...</td>\n",
              "      <td>1388966400</td>\n",
              "      <td>This book is a reissue of an old one; the auth...</td>\n",
              "      <td>4.0</td>\n",
              "    </tr>\n",
              "    <tr>\n",
              "      <th>2</th>\n",
              "      <td>2</td>\n",
              "      <td>B000F83SZQ</td>\n",
              "      <td>[2, 2]</td>\n",
              "      <td>4.0</td>\n",
              "      <td>This was a fairly interesting read.  It had ol...</td>\n",
              "      <td>04 4, 2014</td>\n",
              "      <td>A795DMNCJILA6</td>\n",
              "      <td>dot</td>\n",
              "      <td>Oldie</td>\n",
              "      <td>1396569600</td>\n",
              "      <td>This was a fairly interesting read.  It had ol...</td>\n",
              "      <td>4.0</td>\n",
              "    </tr>\n",
              "    <tr>\n",
              "      <th>3</th>\n",
              "      <td>3</td>\n",
              "      <td>B000F83SZQ</td>\n",
              "      <td>[1, 1]</td>\n",
              "      <td>5.0</td>\n",
              "      <td>I'd never read any of the Amy Brewster mysteri...</td>\n",
              "      <td>02 19, 2014</td>\n",
              "      <td>A1FV0SX13TWVXQ</td>\n",
              "      <td>\"Elaine H. Turley \"\"Montana Songbird\"\"\"</td>\n",
              "      <td>I really liked it.</td>\n",
              "      <td>1392768000</td>\n",
              "      <td>I'd never read any of the Amy Brewster mysteri...</td>\n",
              "      <td>5.0</td>\n",
              "    </tr>\n",
              "    <tr>\n",
              "      <th>4</th>\n",
              "      <td>4</td>\n",
              "      <td>B000F83SZQ</td>\n",
              "      <td>[0, 1]</td>\n",
              "      <td>4.0</td>\n",
              "      <td>If you like period pieces - clothing, lingo, y...</td>\n",
              "      <td>03 19, 2014</td>\n",
              "      <td>A3SPTOKDG7WBLN</td>\n",
              "      <td>Father Dowling Fan</td>\n",
              "      <td>Period Mystery</td>\n",
              "      <td>1395187200</td>\n",
              "      <td>If you like period pieces - clothing, lingo, y...</td>\n",
              "      <td>4.0</td>\n",
              "    </tr>\n",
              "  </tbody>\n",
              "</table>\n",
              "</div>"
            ],
            "text/plain": [
              "  _c0        asin  ...                                               text  sentiment\n",
              "0   0  B000F83SZQ  ...  I enjoy vintage books and movies so I enjoyed ...        5.0\n",
              "1   1  B000F83SZQ  ...  This book is a reissue of an old one; the auth...        4.0\n",
              "2   2  B000F83SZQ  ...  This was a fairly interesting read.  It had ol...        4.0\n",
              "3   3  B000F83SZQ  ...  I'd never read any of the Amy Brewster mysteri...        5.0\n",
              "4   4  B000F83SZQ  ...  If you like period pieces - clothing, lingo, y...        4.0\n",
              "\n",
              "[5 rows x 12 columns]"
            ]
          },
          "metadata": {
            "tags": []
          },
          "execution_count": 20
        }
      ]
    },
    {
      "cell_type": "code",
      "metadata": {
        "id": "nqUPs026G1T3"
      },
      "source": [
        "df = df.drop(df.columns[:-2], axis=1)"
      ],
      "execution_count": null,
      "outputs": []
    },
    {
      "cell_type": "code",
      "metadata": {
        "id": "3_Kh5EqivlbD"
      },
      "source": [
        "df['sentiment'] = df.sentiment.values.astype(np.int32)"
      ],
      "execution_count": null,
      "outputs": []
    },
    {
      "cell_type": "code",
      "metadata": {
        "id": "Fle6sA2nXnaY"
      },
      "source": [
        "index_names = df[ df['sentiment'] ==-2147483648].index\n",
        "df.drop(index_names, inplace = True)"
      ],
      "execution_count": null,
      "outputs": []
    },
    {
      "cell_type": "code",
      "metadata": {
        "colab": {
          "base_uri": "https://localhost:8080/",
          "height": 424
        },
        "id": "MXCm2UOUXa60",
        "outputId": "837e1a6e-9bfe-4228-a1a8-e022813e2b6a"
      },
      "source": [
        "df"
      ],
      "execution_count": null,
      "outputs": [
        {
          "output_type": "execute_result",
          "data": {
            "text/html": [
              "<div>\n",
              "<style scoped>\n",
              "    .dataframe tbody tr th:only-of-type {\n",
              "        vertical-align: middle;\n",
              "    }\n",
              "\n",
              "    .dataframe tbody tr th {\n",
              "        vertical-align: top;\n",
              "    }\n",
              "\n",
              "    .dataframe thead th {\n",
              "        text-align: right;\n",
              "    }\n",
              "</style>\n",
              "<table border=\"1\" class=\"dataframe\">\n",
              "  <thead>\n",
              "    <tr style=\"text-align: right;\">\n",
              "      <th></th>\n",
              "      <th>text</th>\n",
              "      <th>sentiment</th>\n",
              "    </tr>\n",
              "  </thead>\n",
              "  <tbody>\n",
              "    <tr>\n",
              "      <th>0</th>\n",
              "      <td>I enjoy vintage books and movies so I enjoyed ...</td>\n",
              "      <td>5</td>\n",
              "    </tr>\n",
              "    <tr>\n",
              "      <th>1</th>\n",
              "      <td>This book is a reissue of an old one; the auth...</td>\n",
              "      <td>4</td>\n",
              "    </tr>\n",
              "    <tr>\n",
              "      <th>2</th>\n",
              "      <td>This was a fairly interesting read.  It had ol...</td>\n",
              "      <td>4</td>\n",
              "    </tr>\n",
              "    <tr>\n",
              "      <th>3</th>\n",
              "      <td>I'd never read any of the Amy Brewster mysteri...</td>\n",
              "      <td>5</td>\n",
              "    </tr>\n",
              "    <tr>\n",
              "      <th>4</th>\n",
              "      <td>If you like period pieces - clothing, lingo, y...</td>\n",
              "      <td>4</td>\n",
              "    </tr>\n",
              "    <tr>\n",
              "      <th>...</th>\n",
              "      <td>...</td>\n",
              "      <td>...</td>\n",
              "    </tr>\n",
              "    <tr>\n",
              "      <th>982815</th>\n",
              "      <td>Yasss hunny! This is a great read. That Dre is...</td>\n",
              "      <td>5</td>\n",
              "    </tr>\n",
              "    <tr>\n",
              "      <th>982816</th>\n",
              "      <td>I ENJOYED THIS BOOK FROM BEGINNING TO END NOW ...</td>\n",
              "      <td>5</td>\n",
              "    </tr>\n",
              "    <tr>\n",
              "      <th>982817</th>\n",
              "      <td>Great book! Cherika was a fool. She let that m...</td>\n",
              "      <td>5</td>\n",
              "    </tr>\n",
              "    <tr>\n",
              "      <th>982818</th>\n",
              "      <td>When I say this was an excellent book please b...</td>\n",
              "      <td>5</td>\n",
              "    </tr>\n",
              "    <tr>\n",
              "      <th>982819</th>\n",
              "      <td>This book was everything. I just hope Alexus w...</td>\n",
              "      <td>5</td>\n",
              "    </tr>\n",
              "  </tbody>\n",
              "</table>\n",
              "<p>982619 rows × 2 columns</p>\n",
              "</div>"
            ],
            "text/plain": [
              "                                                     text  sentiment\n",
              "0       I enjoy vintage books and movies so I enjoyed ...          5\n",
              "1       This book is a reissue of an old one; the auth...          4\n",
              "2       This was a fairly interesting read.  It had ol...          4\n",
              "3       I'd never read any of the Amy Brewster mysteri...          5\n",
              "4       If you like period pieces - clothing, lingo, y...          4\n",
              "...                                                   ...        ...\n",
              "982815  Yasss hunny! This is a great read. That Dre is...          5\n",
              "982816  I ENJOYED THIS BOOK FROM BEGINNING TO END NOW ...          5\n",
              "982817  Great book! Cherika was a fool. She let that m...          5\n",
              "982818  When I say this was an excellent book please b...          5\n",
              "982819  This book was everything. I just hope Alexus w...          5\n",
              "\n",
              "[982619 rows x 2 columns]"
            ]
          },
          "metadata": {
            "tags": []
          },
          "execution_count": 24
        }
      ]
    },
    {
      "cell_type": "code",
      "metadata": {
        "id": "kiPAwjxJxt7o"
      },
      "source": [
        "df['sentiment'] = df['sentiment'].replace([1,2,3],'Negative')\n",
        "df['sentiment'] = df['sentiment'].replace([4,5],'Positive')"
      ],
      "execution_count": null,
      "outputs": []
    },
    {
      "cell_type": "code",
      "metadata": {
        "colab": {
          "base_uri": "https://localhost:8080/"
        },
        "id": "XWXoynpeWG2z",
        "outputId": "91122399-1abf-417c-c11f-322d2018dfb2"
      },
      "source": [
        "df.sentiment.unique()"
      ],
      "execution_count": null,
      "outputs": [
        {
          "output_type": "execute_result",
          "data": {
            "text/plain": [
              "array(['Positive', 'Negative'], dtype=object)"
            ]
          },
          "metadata": {
            "tags": []
          },
          "execution_count": 26
        }
      ]
    },
    {
      "cell_type": "code",
      "metadata": {
        "colab": {
          "base_uri": "https://localhost:8080/",
          "height": 285
        },
        "id": "-KpiZlX-V8H4",
        "outputId": "7224c6a0-2555-4730-ccf5-6aaeb30a4d04"
      },
      "source": [
        "import seaborn as sns\n",
        "\n",
        "sns.set_theme(style=\"darkgrid\")\n",
        "\n",
        "\n",
        "ax = sns.countplot(x=\"sentiment\", data=df)\n"
      ],
      "execution_count": null,
      "outputs": [
        {
          "output_type": "display_data",
          "data": {
            "image/png": "[encoded data removed]",
            "text/plain": [
              "<Figure size 432x288 with 1 Axes>"
            ]
          },
          "metadata": {
            "tags": []
          }
        }
      ]
    },
    {
      "cell_type": "markdown",
      "metadata": {
        "id": "OXXx85k1G1T6"
      },
      "source": [
        "### Stemming/ Lematization & Stopwords\n"
      ]
    },
    {
      "cell_type": "code",
      "metadata": {
        "id": "1kTxaVkdG1T7"
      },
      "source": [
        "stop_words = stopwords.words('english')\n",
        "stemmer = SnowballStemmer('english')\n",
        "\n",
        "text_cleaning_re = \"@\\S+|https?:\\S+|http?:\\S|[^A-Za-z0-9]+\""
      ],
      "execution_count": null,
      "outputs": []
    },
    {
      "cell_type": "code",
      "metadata": {
        "id": "p3ZEcNcCG1T8"
      },
      "source": [
        "def preprocess(text, stem=False):\n",
        "  text = re.sub(text_cleaning_re, ' ', str(text).lower()).strip()\n",
        "  tokens = []\n",
        "  for token in text.split():\n",
        "    if token not in stop_words:\n",
        "      if stem:\n",
        "        tokens.append(stemmer.stem(token))\n",
        "      else:\n",
        "        tokens.append(token)\n",
        "  return \" \".join(tokens)"
      ],
      "execution_count": null,
      "outputs": []
    },
    {
      "cell_type": "code",
      "metadata": {
        "id": "rhjMjanVG1T9"
      },
      "source": [
        "df.text = df.text.apply(lambda x: preprocess(x))"
      ],
      "execution_count": null,
      "outputs": []
    },
    {
      "cell_type": "code",
      "metadata": {
        "id": "s9XSxuTcG1T9"
      },
      "source": [
        "# df.to_csv(\"post_process.csv\",index=False)"
      ],
      "execution_count": null,
      "outputs": []
    },
    {
      "cell_type": "code",
      "metadata": {
        "id": "aehkSVAuZpnF"
      },
      "source": [
        "df.to_csv( \"/content/drive/MyDrive/abd/pre_processed_df.csv\", index=False)"
      ],
      "execution_count": null,
      "outputs": []
    },
    {
      "cell_type": "code",
      "metadata": {
        "id": "FDvKCFZK1Krs"
      },
      "source": [
        "df = pd.read_csv(\"/content/drive/MyDrive/abd/pre_processed_df.csv\")"
      ],
      "execution_count": null,
      "outputs": []
    },
    {
      "cell_type": "code",
      "metadata": {
        "id": "_Bb2bRxCc9F7"
      },
      "source": [
        "df.dropna(axis=0, how=\"any\",inplace=True)\n",
        "df['text'] = df['text'].astype(str)"
      ],
      "execution_count": null,
      "outputs": []
    },
    {
      "cell_type": "code",
      "metadata": {
        "colab": {
          "base_uri": "https://localhost:8080/",
          "height": 424
        },
        "id": "ZcURjEm01UtX",
        "outputId": "13891103-491f-42c4-863f-6f37233bc673"
      },
      "source": [
        "df"
      ],
      "execution_count": null,
      "outputs": [
        {
          "output_type": "execute_result",
          "data": {
            "text/html": [
              "<div>\n",
              "<style scoped>\n",
              "    .dataframe tbody tr th:only-of-type {\n",
              "        vertical-align: middle;\n",
              "    }\n",
              "\n",
              "    .dataframe tbody tr th {\n",
              "        vertical-align: top;\n",
              "    }\n",
              "\n",
              "    .dataframe thead th {\n",
              "        text-align: right;\n",
              "    }\n",
              "</style>\n",
              "<table border=\"1\" class=\"dataframe\">\n",
              "  <thead>\n",
              "    <tr style=\"text-align: right;\">\n",
              "      <th></th>\n",
              "      <th>text</th>\n",
              "      <th>sentiment</th>\n",
              "    </tr>\n",
              "  </thead>\n",
              "  <tbody>\n",
              "    <tr>\n",
              "      <th>0</th>\n",
              "      <td>enjoy vintage books movies enjoyed reading boo...</td>\n",
              "      <td>Positive</td>\n",
              "    </tr>\n",
              "    <tr>\n",
              "      <th>1</th>\n",
              "      <td>book reissue old one author born 1910 era say ...</td>\n",
              "      <td>Positive</td>\n",
              "    </tr>\n",
              "    <tr>\n",
              "      <th>2</th>\n",
              "      <td>fairly interesting read old style terminology ...</td>\n",
              "      <td>Positive</td>\n",
              "    </tr>\n",
              "    <tr>\n",
              "      <th>3</th>\n",
              "      <td>never read amy brewster mysteries one really h...</td>\n",
              "      <td>Positive</td>\n",
              "    </tr>\n",
              "    <tr>\n",
              "      <th>4</th>\n",
              "      <td>like period pieces clothing lingo enjoy myster...</td>\n",
              "      <td>Positive</td>\n",
              "    </tr>\n",
              "    <tr>\n",
              "      <th>...</th>\n",
              "      <td>...</td>\n",
              "      <td>...</td>\n",
              "    </tr>\n",
              "    <tr>\n",
              "      <th>982614</th>\n",
              "      <td>yasss hunny great read dre mess cherika refuse...</td>\n",
              "      <td>Positive</td>\n",
              "    </tr>\n",
              "    <tr>\n",
              "      <th>982615</th>\n",
              "      <td>enjoyed book beginning end far lex hoe sneaky ...</td>\n",
              "      <td>Positive</td>\n",
              "    </tr>\n",
              "    <tr>\n",
              "      <th>982616</th>\n",
              "      <td>great book cherika fool let man get away much ...</td>\n",
              "      <td>Positive</td>\n",
              "    </tr>\n",
              "    <tr>\n",
              "      <th>982617</th>\n",
              "      <td>say excellent book please believe definitely p...</td>\n",
              "      <td>Positive</td>\n",
              "    </tr>\n",
              "    <tr>\n",
              "      <th>982618</th>\n",
              "      <td>book everything hope alexus wise move lawd tho...</td>\n",
              "      <td>Positive</td>\n",
              "    </tr>\n",
              "  </tbody>\n",
              "</table>\n",
              "<p>982593 rows × 2 columns</p>\n",
              "</div>"
            ],
            "text/plain": [
              "                                                     text sentiment\n",
              "0       enjoy vintage books movies enjoyed reading boo...  Positive\n",
              "1       book reissue old one author born 1910 era say ...  Positive\n",
              "2       fairly interesting read old style terminology ...  Positive\n",
              "3       never read amy brewster mysteries one really h...  Positive\n",
              "4       like period pieces clothing lingo enjoy myster...  Positive\n",
              "...                                                   ...       ...\n",
              "982614  yasss hunny great read dre mess cherika refuse...  Positive\n",
              "982615  enjoyed book beginning end far lex hoe sneaky ...  Positive\n",
              "982616  great book cherika fool let man get away much ...  Positive\n",
              "982617  say excellent book please believe definitely p...  Positive\n",
              "982618  book everything hope alexus wise move lawd tho...  Positive\n",
              "\n",
              "[982593 rows x 2 columns]"
            ]
          },
          "metadata": {
            "tags": []
          },
          "execution_count": 35
        }
      ]
    },
    {
      "cell_type": "markdown",
      "metadata": {
        "id": "ET0Bq4pjG1T-"
      },
      "source": [
        "\n",
        "### Positive Words"
      ]
    },
    {
      "cell_type": "code",
      "metadata": {
        "id": "imewKqpBG1T-"
      },
      "source": [
        "# from wordcloud import WordCloud\n",
        "\n",
        "# plt.figure(figsize = (20,20)) \n",
        "# wc = WordCloud(max_words = 2000 , width = 1600 , height = 800).generate(\" \".join(df[df.sentiment == 'Positive'].text))\n",
        "# plt.imshow(wc , interpolation = 'bilinear')"
      ],
      "execution_count": null,
      "outputs": []
    },
    {
      "cell_type": "markdown",
      "metadata": {
        "id": "XcKrFBlqG1T-"
      },
      "source": [
        "### Negative Words"
      ]
    },
    {
      "cell_type": "code",
      "metadata": {
        "id": "TGz3YpwNG1T-"
      },
      "source": [
        "# plt.figure(figsize = (20,20)) \n",
        "# wc = WordCloud(max_words = 2000 , width = 1600 , height = 800).generate(\" \".join(df[df.sentiment == 'Negative'].text))\n",
        "# plt.imshow(wc , interpolation = 'bilinear')"
      ],
      "execution_count": null,
      "outputs": []
    },
    {
      "cell_type": "markdown",
      "metadata": {
        "id": "xoMiJBFvG1T_"
      },
      "source": [
        "## Train and Test Split"
      ]
    },
    {
      "cell_type": "code",
      "metadata": {
        "id": "HcsMHH9gG1T_"
      },
      "source": [
        "TRAIN_SIZE = 0.8\n",
        "MAX_NB_WORDS = 100000\n",
        "MAX_SEQUENCE_LENGTH = 30"
      ],
      "execution_count": null,
      "outputs": []
    },
    {
      "cell_type": "code",
      "metadata": {
        "colab": {
          "base_uri": "https://localhost:8080/"
        },
        "id": "UTX1L2YuG1T_",
        "outputId": "70c9d757-05ed-4146-a301-e0624b0d1aea"
      },
      "source": [
        "train_data, test_data = train_test_split(df, test_size=1-TRAIN_SIZE,\n",
        "                                         random_state=7)\n",
        "print(\"Train Data size:\", len(train_data))\n",
        "print(\"Test Data size\", len(test_data))"
      ],
      "execution_count": null,
      "outputs": [
        {
          "output_type": "stream",
          "text": [
            "Train Data size: 786074\n",
            "Test Data size 196519\n"
          ],
          "name": "stdout"
        }
      ]
    },
    {
      "cell_type": "code",
      "metadata": {
        "colab": {
          "base_uri": "https://localhost:8080/",
          "height": 363
        },
        "id": "Cio6Zl4hG1UA",
        "outputId": "b56a8ade-a956-4cf0-f64d-62df85c6dde1"
      },
      "source": [
        "train_data.head(10)"
      ],
      "execution_count": null,
      "outputs": [
        {
          "output_type": "execute_result",
          "data": {
            "text/html": [
              "<div>\n",
              "<style scoped>\n",
              "    .dataframe tbody tr th:only-of-type {\n",
              "        vertical-align: middle;\n",
              "    }\n",
              "\n",
              "    .dataframe tbody tr th {\n",
              "        vertical-align: top;\n",
              "    }\n",
              "\n",
              "    .dataframe thead th {\n",
              "        text-align: right;\n",
              "    }\n",
              "</style>\n",
              "<table border=\"1\" class=\"dataframe\">\n",
              "  <thead>\n",
              "    <tr style=\"text-align: right;\">\n",
              "      <th></th>\n",
              "      <th>text</th>\n",
              "      <th>sentiment</th>\n",
              "    </tr>\n",
              "  </thead>\n",
              "  <tbody>\n",
              "    <tr>\n",
              "      <th>44793</th>\n",
              "      <td>bridge fantastic tale crazy one pretty written...</td>\n",
              "      <td>Positive</td>\n",
              "    </tr>\n",
              "    <tr>\n",
              "      <th>198300</th>\n",
              "      <td>loved book lot hope least 3 series really wish...</td>\n",
              "      <td>Positive</td>\n",
              "    </tr>\n",
              "    <tr>\n",
              "      <th>704412</th>\n",
              "      <td>really enjoyed story found interesting choice ...</td>\n",
              "      <td>Positive</td>\n",
              "    </tr>\n",
              "    <tr>\n",
              "      <th>703330</th>\n",
              "      <td>author brad branham definite knack walking wal...</td>\n",
              "      <td>Positive</td>\n",
              "    </tr>\n",
              "    <tr>\n",
              "      <th>848743</th>\n",
              "      <td>loved wild read wild looked author proceeded r...</td>\n",
              "      <td>Positive</td>\n",
              "    </tr>\n",
              "    <tr>\n",
              "      <th>573075</th>\n",
              "      <td>loved book much brought 2 series far fourth bo...</td>\n",
              "      <td>Positive</td>\n",
              "    </tr>\n",
              "    <tr>\n",
              "      <th>97725</th>\n",
              "      <td>wonderful love paranormal romance immediately ...</td>\n",
              "      <td>Positive</td>\n",
              "    </tr>\n",
              "    <tr>\n",
              "      <th>56834</th>\n",
              "      <td>knowledge words needs improved lived wonderful...</td>\n",
              "      <td>Positive</td>\n",
              "    </tr>\n",
              "    <tr>\n",
              "      <th>402664</th>\n",
              "      <td>went south america back speaking friend region...</td>\n",
              "      <td>Positive</td>\n",
              "    </tr>\n",
              "    <tr>\n",
              "      <th>80326</th>\n",
              "      <td>rode dinosaur school know possible dinosaurs d...</td>\n",
              "      <td>Positive</td>\n",
              "    </tr>\n",
              "  </tbody>\n",
              "</table>\n",
              "</div>"
            ],
            "text/plain": [
              "                                                     text sentiment\n",
              "44793   bridge fantastic tale crazy one pretty written...  Positive\n",
              "198300  loved book lot hope least 3 series really wish...  Positive\n",
              "704412  really enjoyed story found interesting choice ...  Positive\n",
              "703330  author brad branham definite knack walking wal...  Positive\n",
              "848743  loved wild read wild looked author proceeded r...  Positive\n",
              "573075  loved book much brought 2 series far fourth bo...  Positive\n",
              "97725   wonderful love paranormal romance immediately ...  Positive\n",
              "56834   knowledge words needs improved lived wonderful...  Positive\n",
              "402664  went south america back speaking friend region...  Positive\n",
              "80326   rode dinosaur school know possible dinosaurs d...  Positive"
            ]
          },
          "metadata": {
            "tags": []
          },
          "execution_count": 40
        }
      ]
    },
    {
      "cell_type": "markdown",
      "metadata": {
        "id": "wAiSh4_yG1UA"
      },
      "source": [
        "# Tokenization"
      ]
    },
    {
      "cell_type": "code",
      "metadata": {
        "id": "0g2LZ7viao1N"
      },
      "source": [
        "df.dropna(axis=0, how=\"any\",inplace=True)\n",
        "df['text'] = df['text'].astype(str)"
      ],
      "execution_count": null,
      "outputs": []
    },
    {
      "cell_type": "code",
      "metadata": {
        "colab": {
          "base_uri": "https://localhost:8080/"
        },
        "id": "gF3HCq3jG1UA",
        "outputId": "adb98ba8-4053-4ab4-be0d-026c8aab72f2"
      },
      "source": [
        "from keras.preprocessing.text import Tokenizer\n",
        "\n",
        "tokenizer = Tokenizer()\n",
        "tokenizer.fit_on_texts(train_data.text)\n",
        "\n",
        "word_index = tokenizer.word_index\n",
        "vocab_size = len(tokenizer.word_index) + 1\n",
        "print(\"Vocabulary Size :\", vocab_size)"
      ],
      "execution_count": null,
      "outputs": [
        {
          "output_type": "stream",
          "text": [
            "Vocabulary Size : 233856\n"
          ],
          "name": "stdout"
        }
      ]
    },
    {
      "cell_type": "code",
      "metadata": {
        "id": "5h5FpTYaVW3x"
      },
      "source": [
        "# vocab_size = 250083"
      ],
      "execution_count": null,
      "outputs": []
    },
    {
      "cell_type": "code",
      "metadata": {
        "colab": {
          "base_uri": "https://localhost:8080/"
        },
        "id": "DhO0CUuiG1UA",
        "outputId": "8da8c4c0-ae1f-462e-af77-f4bd2dd5b100"
      },
      "source": [
        "from keras.preprocessing.sequence import pad_sequences\n",
        "\n",
        "x_train = pad_sequences(tokenizer.texts_to_sequences(train_data.text),\n",
        "                        maxlen = MAX_SEQUENCE_LENGTH)\n",
        "x_test = pad_sequences(tokenizer.texts_to_sequences(test_data.text),\n",
        "                       maxlen = MAX_SEQUENCE_LENGTH)\n",
        "\n",
        "print(\"Training X Shape:\",x_train.shape)\n",
        "print(\"Testing X Shape:\",x_test.shape)"
      ],
      "execution_count": null,
      "outputs": [
        {
          "output_type": "stream",
          "text": [
            "Training X Shape: (786074, 30)\n",
            "Testing X Shape: (196519, 30)\n"
          ],
          "name": "stdout"
        }
      ]
    },
    {
      "cell_type": "code",
      "metadata": {
        "id": "65q_Z91lG1UB"
      },
      "source": [
        "labels = train_data.sentiment.unique().tolist()"
      ],
      "execution_count": null,
      "outputs": []
    },
    {
      "cell_type": "markdown",
      "metadata": {
        "id": "E5CfyUmjG1UB"
      },
      "source": [
        "### Label Encoding "
      ]
    },
    {
      "cell_type": "code",
      "metadata": {
        "colab": {
          "base_uri": "https://localhost:8080/"
        },
        "id": "Ff2OHSf8G1UC",
        "outputId": "d0f64cde-954c-4bbb-9828-d74cdca8f856"
      },
      "source": [
        "encoder = LabelEncoder()\n",
        "encoder.fit(train_data.sentiment.to_list())\n",
        "\n",
        "y_train = encoder.transform(train_data.sentiment.to_list())\n",
        "y_test = encoder.transform(test_data.sentiment.to_list())\n",
        "\n",
        "y_train = y_train.reshape(-1,1)\n",
        "y_test = y_test.reshape(-1,1)\n",
        "\n",
        "\n",
        "\n",
        "print(\"y_train shape:\", y_train.shape)\n",
        "print(\"y_test shape:\", y_test.shape)"
      ],
      "execution_count": null,
      "outputs": [
        {
          "output_type": "stream",
          "text": [
            "y_train shape: (786074, 1)\n",
            "y_test shape: (196519, 1)\n"
          ],
          "name": "stdout"
        }
      ]
    },
    {
      "cell_type": "markdown",
      "metadata": {
        "id": "kuSQPAG9G1UC"
      },
      "source": [
        "# Word Emdedding"
      ]
    },
    {
      "cell_type": "code",
      "metadata": {
        "id": "xfoDAZaMX9ui"
      },
      "source": [
        "# #Biar Tidak Makan Waktu\n",
        "# x_train = pd.read_csv(\"/content/drive/MyDrive/abd/x_train\")\n",
        "\n",
        "# x_test = pd.read_csv(\"/content/drive/MyDrive/abd/x_test\")\n",
        "\n",
        "# y_train = pd.read_csv(\"/content/drive/MyDrive/abd/y_train\")\n",
        "\n",
        "# y_test = pd.read_csv(\"/content/drive/MyDrive/abd/y_test\")\n",
        "\n"
      ],
      "execution_count": null,
      "outputs": []
    },
    {
      "cell_type": "code",
      "metadata": {
        "id": "fJwQZzRVG1UC"
      },
      "source": [
        "GLOVE_EMB = '/content/drive/MyDrive/abd/glove.6B.300d.txt'\n",
        "EMBEDDING_DIM = 300\n",
        "LR = 1e-3\n",
        "BATCH_SIZE = 1024\n",
        "EPOCHS = 10\n",
        "MODEL_PATH = '/content'"
      ],
      "execution_count": null,
      "outputs": []
    },
    {
      "cell_type": "code",
      "metadata": {
        "colab": {
          "base_uri": "https://localhost:8080/"
        },
        "id": "OJqjhFiAG1UD",
        "outputId": "77bb4f4a-eb27-43ab-b58a-797181ff2f7d"
      },
      "source": [
        "embeddings_index = {}\n",
        "\n",
        "f = open(GLOVE_EMB)\n",
        "for line in f:\n",
        "  values = line.split()\n",
        "  word = value = values[0]\n",
        "  coefs = np.asarray(values[1:], dtype='float32')\n",
        "  embeddings_index[word] = coefs\n",
        "f.close()\n",
        "\n",
        "print('Found %s word vectors.' %len(embeddings_index))"
      ],
      "execution_count": null,
      "outputs": [
        {
          "output_type": "stream",
          "text": [
            "Found 400000 word vectors.\n"
          ],
          "name": "stdout"
        }
      ]
    },
    {
      "cell_type": "code",
      "metadata": {
        "id": "VnaLVejXtz4Z"
      },
      "source": [
        "# vocab_size = 300"
      ],
      "execution_count": null,
      "outputs": []
    },
    {
      "cell_type": "code",
      "metadata": {
        "id": "xqxCP5UkG1UD"
      },
      "source": [
        "embedding_matrix = np.zeros((vocab_size, EMBEDDING_DIM))\n",
        "for word, i in word_index.items():\n",
        "  embedding_vector = embeddings_index.get(word)\n",
        "  if embedding_vector is not None:\n",
        "    embedding_matrix[i] = embedding_vector"
      ],
      "execution_count": null,
      "outputs": []
    },
    {
      "cell_type": "code",
      "metadata": {
        "id": "RDq5brVgG1UD"
      },
      "source": [
        "embedding_layer = tf.keras.layers.Embedding(vocab_size,\n",
        "                                          EMBEDDING_DIM,\n",
        "                                          weights=[embedding_matrix],\n",
        "                                          input_length=MAX_SEQUENCE_LENGTH,\n",
        "                                          trainable=False)"
      ],
      "execution_count": null,
      "outputs": []
    },
    {
      "cell_type": "markdown",
      "metadata": {
        "id": "zK8ARJJ1G1UD"
      },
      "source": [
        "# Model Training - LSTM"
      ]
    },
    {
      "cell_type": "code",
      "metadata": {
        "id": "axRoY__9G1UE"
      },
      "source": [
        "from tensorflow.keras.layers import Conv1D, Bidirectional, LSTM, Dense, Input, Dropout\n",
        "from tensorflow.keras.layers import SpatialDropout1D\n",
        "from tensorflow.keras.callbacks import ModelCheckpoint"
      ],
      "execution_count": null,
      "outputs": []
    },
    {
      "cell_type": "code",
      "metadata": {
        "colab": {
          "base_uri": "https://localhost:8080/"
        },
        "id": "NCSJrcwuG1UE",
        "outputId": "542b1f80-5986-467d-b5a9-46c5b4ad7158"
      },
      "source": [
        "sequence_input = Input(shape=(MAX_SEQUENCE_LENGTH,), dtype='int32')\n",
        "embedding_sequences = embedding_layer(sequence_input)\n",
        "x = SpatialDropout1D(0.2)(embedding_sequences)\n",
        "x = Conv1D(64, 5, activation='relu')(x)\n",
        "x = Bidirectional(LSTM(64, dropout=0.2, recurrent_dropout=0.2))(x)\n",
        "x = Dense(512, activation='relu')(x)\n",
        "x = Dropout(0.5)(x)\n",
        "x = Dense(512, activation='relu')(x)\n",
        "outputs = Dense(1, activation='sigmoid')(x)\n",
        "model = tf.keras.Model(sequence_input, outputs)"
      ],
      "execution_count": null,
      "outputs": [
        {
          "output_type": "stream",
          "text": [
            "WARNING:tensorflow:Layer lstm will not use cuDNN kernels since it doesn't meet the criteria. It will use a generic GPU kernel as fallback when running on GPU.\n",
            "WARNING:tensorflow:Layer lstm will not use cuDNN kernels since it doesn't meet the criteria. It will use a generic GPU kernel as fallback when running on GPU.\n",
            "WARNING:tensorflow:Layer lstm will not use cuDNN kernels since it doesn't meet the criteria. It will use a generic GPU kernel as fallback when running on GPU.\n"
          ],
          "name": "stdout"
        }
      ]
    },
    {
      "cell_type": "markdown",
      "metadata": {
        "id": "9V7eIRHOG1UE"
      },
      "source": [
        "### Optimization Algorithm\n",
        "> Adam\n",
        "### Callbacks\n",
        "> ReduceLR"
      ]
    },
    {
      "cell_type": "markdown",
      "metadata": {
        "id": "dpAlPd6iZ3GA"
      },
      "source": [
        "## TF Mirrored Strategy"
      ]
    },
    {
      "cell_type": "code",
      "metadata": {
        "colab": {
          "base_uri": "https://localhost:8080/"
        },
        "id": "WmCrHLCYYK9t",
        "outputId": "2ccc38bf-a4cb-4acc-d58a-bf30eed04058"
      },
      "source": [
        "strategy = tf.distribute.MultiWorkerMirroredStrategy()"
      ],
      "execution_count": null,
      "outputs": [
        {
          "output_type": "stream",
          "text": [
            "WARNING:tensorflow:Collective ops is not configured at program startup. Some performance features may not be enabled.\n",
            "INFO:tensorflow:Single-worker MultiWorkerMirroredStrategy with local_devices = ('/device:GPU:0',), communication = CommunicationImplementation.AUTO\n"
          ],
          "name": "stdout"
        }
      ]
    },
    {
      "cell_type": "code",
      "metadata": {
        "colab": {
          "base_uri": "https://localhost:8080/"
        },
        "id": "j3DflbMxZ5RD",
        "outputId": "d3d0cc9b-383b-4418-b1b9-1afef2316ae9"
      },
      "source": [
        "mirrored_strategy = tf.distribute.MirroredStrategy()\n",
        "from tensorflow.keras.optimizers import Adam\n",
        "from tensorflow.keras.callbacks import ReduceLROnPlateau\n",
        "with mirrored_strategy.scope():\n",
        "  keras_model = tf.keras.models.clone_model(model)\n",
        "\n",
        "keras_model.compile(optimizer=Adam(learning_rate=LR), loss='binary_crossentropy',\n",
        "              metrics=['accuracy'])\n",
        "ReduceLROnPlateau = ReduceLROnPlateau(factor=0.1,\n",
        "                                     min_lr = 0.01,\n",
        "                                     monitor = 'val_loss',\n",
        "                                     verbose = 1)"
      ],
      "execution_count": null,
      "outputs": [
        {
          "output_type": "stream",
          "text": [
            "WARNING:tensorflow:Collective ops is not configured at program startup. Some performance features may not be enabled.\n",
            "INFO:tensorflow:Using MirroredStrategy with devices ('/job:localhost/replica:0/task:0/device:GPU:0',)\n",
            "WARNING:tensorflow:Layer lstm will not use cuDNN kernels since it doesn't meet the criteria. It will use a generic GPU kernel as fallback when running on GPU.\n",
            "WARNING:tensorflow:Layer lstm will not use cuDNN kernels since it doesn't meet the criteria. It will use a generic GPU kernel as fallback when running on GPU.\n",
            "WARNING:tensorflow:Layer lstm will not use cuDNN kernels since it doesn't meet the criteria. It will use a generic GPU kernel as fallback when running on GPU.\n",
            "INFO:tensorflow:Reduce to /job:localhost/replica:0/task:0/device:CPU:0 then broadcast to ('/job:localhost/replica:0/task:0/device:CPU:0',).\n",
            "INFO:tensorflow:Reduce to /job:localhost/replica:0/task:0/device:CPU:0 then broadcast to ('/job:localhost/replica:0/task:0/device:CPU:0',).\n",
            "INFO:tensorflow:Reduce to /job:localhost/replica:0/task:0/device:CPU:0 then broadcast to ('/job:localhost/replica:0/task:0/device:CPU:0',).\n",
            "INFO:tensorflow:Reduce to /job:localhost/replica:0/task:0/device:CPU:0 then broadcast to ('/job:localhost/replica:0/task:0/device:CPU:0',).\n"
          ],
          "name": "stdout"
        }
      ]
    },
    {
      "cell_type": "code",
      "metadata": {
        "id": "DM3-kPMoaIqN"
      },
      "source": [
        "# history = keras_model.fit(x_train, y_train, batch_size=BATCH_SIZE, epochs=EPOCHS,validation_data=(x_test, y_test), callbacks=[ReduceLROnPlateau])\n"
      ],
      "execution_count": null,
      "outputs": []
    },
    {
      "cell_type": "code",
      "metadata": {
        "id": "n46guAeeG1UE"
      },
      "source": [
        "# from tensorflow.keras.optimizers import Adam\n",
        "# from tensorflow.keras.callbacks import ReduceLROnPlateau\n",
        "\n",
        "# model.compile(optimizer=Adam(learning_rate=LR), loss='binary_crossentropy',\n",
        "#               metrics=['accuracy'])\n",
        "# ReduceLROnPlateau = ReduceLROnPlateau(factor=0.1,\n",
        "#                                      min_lr = 0.01,\n",
        "#                                      monitor = 'val_loss',\n",
        "#                                      verbose = 1)"
      ],
      "execution_count": null,
      "outputs": []
    },
    {
      "cell_type": "code",
      "metadata": {
        "colab": {
          "base_uri": "https://localhost:8080/"
        },
        "id": "Kxx22wDrG1UF",
        "outputId": "ffadf968-480a-41e1-8dcf-dd39c47b399d"
      },
      "source": [
        "history = keras_model.fit(x_train, y_train, batch_size=BATCH_SIZE, epochs=EPOCHS,validation_data=(x_test, y_test), callbacks=[ReduceLROnPlateau])\n"
      ],
      "execution_count": null,
      "outputs": [
        {
          "output_type": "stream",
          "text": [
            "Epoch 1/10\n",
            "INFO:tensorflow:Reduce to /job:localhost/replica:0/task:0/device:CPU:0 then broadcast to ('/job:localhost/replica:0/task:0/device:CPU:0',).\n",
            "INFO:tensorflow:Reduce to /job:localhost/replica:0/task:0/device:CPU:0 then broadcast to ('/job:localhost/replica:0/task:0/device:CPU:0',).\n",
            "INFO:tensorflow:Reduce to /job:localhost/replica:0/task:0/device:CPU:0 then broadcast to ('/job:localhost/replica:0/task:0/device:CPU:0',).\n",
            "INFO:tensorflow:Reduce to /job:localhost/replica:0/task:0/device:CPU:0 then broadcast to ('/job:localhost/replica:0/task:0/device:CPU:0',).\n",
            "INFO:tensorflow:Reduce to /job:localhost/replica:0/task:0/device:CPU:0 then broadcast to ('/job:localhost/replica:0/task:0/device:CPU:0',).\n",
            "INFO:tensorflow:Reduce to /job:localhost/replica:0/task:0/device:CPU:0 then broadcast to ('/job:localhost/replica:0/task:0/device:CPU:0',).\n",
            "768/768 [==============================] - 218s 234ms/step - loss: 0.3327 - accuracy: 0.8646 - val_loss: 0.2865 - val_accuracy: 0.8834\n",
            "Epoch 2/10\n",
            "768/768 [==============================] - 176s 229ms/step - loss: 0.2852 - accuracy: 0.8841 - val_loss: 0.2732 - val_accuracy: 0.8891\n",
            "Epoch 3/10\n",
            "768/768 [==============================] - 176s 229ms/step - loss: 0.2728 - accuracy: 0.8893 - val_loss: 0.2718 - val_accuracy: 0.8888\n",
            "Epoch 4/10\n",
            "768/768 [==============================] - 176s 229ms/step - loss: 0.2660 - accuracy: 0.8926 - val_loss: 0.2691 - val_accuracy: 0.8889\n",
            "Epoch 5/10\n",
            "768/768 [==============================] - 177s 230ms/step - loss: 0.2611 - accuracy: 0.8947 - val_loss: 0.2653 - val_accuracy: 0.8932\n",
            "Epoch 6/10\n",
            "768/768 [==============================] - 177s 230ms/step - loss: 0.2568 - accuracy: 0.8966 - val_loss: 0.2646 - val_accuracy: 0.8907\n",
            "Epoch 7/10\n",
            "768/768 [==============================] - 174s 226ms/step - loss: 0.2548 - accuracy: 0.8971 - val_loss: 0.2625 - val_accuracy: 0.8926\n",
            "Epoch 8/10\n",
            "768/768 [==============================] - 173s 225ms/step - loss: 0.2520 - accuracy: 0.8984 - val_loss: 0.2632 - val_accuracy: 0.8939\n",
            "Epoch 9/10\n",
            "768/768 [==============================] - 173s 225ms/step - loss: 0.2500 - accuracy: 0.8991 - val_loss: 0.2602 - val_accuracy: 0.8936\n",
            "Epoch 10/10\n",
            "768/768 [==============================] - 172s 224ms/step - loss: 0.2478 - accuracy: 0.9002 - val_loss: 0.2584 - val_accuracy: 0.8956\n"
          ],
          "name": "stdout"
        }
      ]
    },
    {
      "cell_type": "code",
      "metadata": {
        "id": "ffvUOEEgG1UF"
      },
      "source": [
        "keras_model.save(\"/content/drive/MyDrive/abd/keras_post_model.h5\")"
      ],
      "execution_count": null,
      "outputs": []
    },
    {
      "cell_type": "code",
      "metadata": {
        "id": "O8HIBmQsUNVr"
      },
      "source": [
        "# model = tf.keras.models.load_model('/content/drive/MyDrive/abd/model.h5')\n"
      ],
      "execution_count": null,
      "outputs": []
    },
    {
      "cell_type": "markdown",
      "metadata": {
        "id": "ymiLHfZvG1UF"
      },
      "source": [
        "# Model Evaluation"
      ]
    },
    {
      "cell_type": "code",
      "metadata": {
        "colab": {
          "base_uri": "https://localhost:8080/"
        },
        "id": "EwA5dOrTaSFP",
        "outputId": "7dc6e864-397b-45fd-ba22-5e51c8ac0001"
      },
      "source": [
        "keras_model.evaluate(x_test,y_test)"
      ],
      "execution_count": null,
      "outputs": [
        {
          "output_type": "stream",
          "text": [
            "6142/6142 [==============================] - 90s 15ms/step - loss: 0.2584 - accuracy: 0.8956\n"
          ],
          "name": "stdout"
        },
        {
          "output_type": "execute_result",
          "data": {
            "text/plain": [
              "[0.2583863139152527, 0.8956029415130615]"
            ]
          },
          "metadata": {
            "tags": []
          },
          "execution_count": 74
        }
      ]
    },
    {
      "cell_type": "markdown",
      "metadata": {
        "id": "BAgDT04BG1UH"
      },
      "source": [
        "### Classification Scores"
      ]
    },
    {
      "cell_type": "code",
      "metadata": {
        "id": "dOAR4VB0G1UG"
      },
      "source": [
        "import itertools\n",
        "from sklearn.metrics import confusion_matrix, classification_report, accuracy_score\n",
        "def plot_confusion_matrix(cm, classes,\n",
        "                          title='Confusion matrix',\n",
        "                          cmap=plt.cm.Blues):\n",
        "    \"\"\"\n",
        "    This function prints and plots the confusion matrix.\n",
        "    Normalization can be applied by setting `normalize=True`.\n",
        "    \"\"\"\n",
        "\n",
        "    cm = cm.astype('float') / cm.sum(axis=1)[:, np.newaxis]\n",
        "\n",
        "    plt.imshow(cm, interpolation='nearest', cmap=cmap)\n",
        "    plt.title(title, fontsize=20)\n",
        "    plt.colorbar()\n",
        "    tick_marks = np.arange(len(classes))\n",
        "    plt.xticks(tick_marks, classes, fontsize=13)\n",
        "    plt.yticks(tick_marks, classes, fontsize=13)\n",
        "\n",
        "    fmt = '.2f'\n",
        "    thresh = cm.max() / 2.\n",
        "    for i, j in itertools.product(range(cm.shape[0]), range(cm.shape[1])):\n",
        "        plt.text(j, i, format(cm[i, j], fmt),\n",
        "                 horizontalalignment=\"center\",\n",
        "                 color=\"white\" if cm[i, j] > thresh else \"black\")\n",
        "\n",
        "    plt.ylabel('True label', fontsize=17)\n",
        "    plt.xlabel('Predicted label', fontsize=17)"
      ],
      "execution_count": null,
      "outputs": []
    },
    {
      "cell_type": "code",
      "metadata": {
        "id": "0xw3FOFsG1UG",
        "colab": {
          "base_uri": "https://localhost:8080/"
        },
        "outputId": "72e72a46-90c0-439f-9e11-4000013d3744"
      },
      "source": [
        "def decode_sentiment(score):\n",
        "    return \"Positive\" if score>0.5 else \"Negative\"\n",
        "\n",
        "\n",
        "scores = keras_model.predict(x_test, verbose=1, batch_size=10000)\n",
        "y_pred_1d = [decode_sentiment(score) for score in scores]"
      ],
      "execution_count": null,
      "outputs": [
        {
          "output_type": "stream",
          "text": [
            "20/20 [==============================] - 1s 66ms/step\n"
          ],
          "name": "stdout"
        }
      ]
    },
    {
      "cell_type": "code",
      "metadata": {
        "id": "caT1PgpJG1UH",
        "colab": {
          "base_uri": "https://localhost:8080/"
        },
        "outputId": "9b328bd4-7564-4a79-a2cd-4b68cff3ff60"
      },
      "source": [
        "print(classification_report(list(test_data.sentiment), y_pred_1d))"
      ],
      "execution_count": null,
      "outputs": [
        {
          "output_type": "stream",
          "text": [
            "              precision    recall  f1-score   support\n",
            "\n",
            "    Negative       0.73      0.53      0.61     30708\n",
            "    Positive       0.92      0.96      0.94    165811\n",
            "\n",
            "    accuracy                           0.90    196519\n",
            "   macro avg       0.82      0.75      0.78    196519\n",
            "weighted avg       0.89      0.90      0.89    196519\n",
            "\n"
          ],
          "name": "stdout"
        }
      ]
    },
    {
      "cell_type": "code",
      "metadata": {
        "id": "jRBVpotlG1UF",
        "colab": {
          "base_uri": "https://localhost:8080/",
          "height": 318
        },
        "outputId": "eb2f8053-3e1b-40c9-da6b-fd171a1fc395"
      },
      "source": [
        "s, (at, al) = plt.subplots(2,1)\n",
        "at.plot(history.history['accuracy'], c= 'b')\n",
        "at.plot(history.history['val_accuracy'], c='r')\n",
        "at.set_title('model accuracy')\n",
        "at.set_ylabel('accuracy')\n",
        "at.set_xlabel('epoch')\n",
        "at.legend(['LSTM_train', 'LSTM_val'], loc='upper left')\n",
        "\n",
        "al.plot(history.history['loss'], c='m')\n",
        "al.plot(history.history['val_loss'], c='c')\n",
        "al.set_title('model loss')\n",
        "al.set_ylabel('loss')\n",
        "al.set_xlabel('epoch')\n",
        "al.legend(['train', 'val'], loc = 'upper left')"
      ],
      "execution_count": null,
      "outputs": [
        {
          "output_type": "execute_result",
          "data": {
            "text/plain": [
              "<matplotlib.legend.Legend at 0x7fa669477690>"
            ]
          },
          "metadata": {
            "tags": []
          },
          "execution_count": 72
        },
        {
          "output_type": "display_data",
          "data": {
            "image/png": "[encoded data removed]",
            "text/plain": [
              "<Figure size 432x288 with 2 Axes>"
            ]
          },
          "metadata": {
            "tags": []
          }
        }
      ]
    },
    {
      "cell_type": "markdown",
      "metadata": {
        "id": "zyOlx6l4G1UG"
      },
      "source": [
        "### Confusion Matrix\n",
        "Confusion Matrix provide a nice overlook at the model's performance in classification task"
      ]
    },
    {
      "cell_type": "code",
      "metadata": {
        "id": "1KBD-xFnG1UG",
        "colab": {
          "base_uri": "https://localhost:8080/",
          "height": 372
        },
        "outputId": "70f22ce3-3c2a-40de-9037-c0bf194d52ea"
      },
      "source": [
        "cnf_matrix = confusion_matrix(test_data.sentiment.to_list(), y_pred_1d)\n",
        "plt.figure(figsize=(6,6))\n",
        "plot_confusion_matrix(cnf_matrix, classes=test_data.sentiment.unique(), title=\"Confusion matrix\")\n",
        "plt.show()"
      ],
      "execution_count": null,
      "outputs": [
        {
          "output_type": "display_data",
          "data": {
            "image/png": "[encoded data removed]",
            "text/plain": [
              "<Figure size 432x432 with 2 Axes>"
            ]
          },
          "metadata": {
            "tags": []
          }
        }
      ]
    }
  ]
}